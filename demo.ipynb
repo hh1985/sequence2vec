{
 "cells": [
  {
   "cell_type": "code",
   "execution_count": 9,
   "metadata": {},
   "outputs": [
    {
     "name": "stdout",
     "output_type": "stream",
     "text": [
      "AGTACACTGGT\n",
      "1\n",
      "3\n",
      "TCATGTGACCA\n",
      "ACCAGTGTACT\n"
     ]
    }
   ],
   "source": [
    "# Manipulation DNA sequences\n",
    "from Bio.Seq import Seq\n",
    "my_dna = Seq(\"AGTACACTGGT\")\n",
    "print(my_dna)\n",
    "print(my_dna.count(\"ACT\"))\n",
    "print(Seq(\"AAAA\").count_overlap(\"AA\"))\n",
    "print(my_dna.complement())\n",
    "print(my_dna.reverse_complement())"
   ]
  },
  {
   "cell_type": "code",
   "execution_count": 14,
   "metadata": {},
   "outputs": [
    {
     "name": "stdout",
     "output_type": "stream",
     "text": [
      "AGTCGGTACAAATTACACAGCATATGCTTTACTGTTAACCACA\n",
      "GTTAACCACATGCGTAGCCACTTGCAATGTCTC\n",
      "34 GTTAACCACA\n",
      "   ||||||||||\n",
      " 1 GTTAACCACA\n",
      "  Score=20\n",
      "\n"
     ]
    },
    {
     "data": {
      "text/plain": [
       "'AGTCGGTACAAATTACACAGCATATGCTTTACTGTTAACCACATGCGTAGCCACTTGCAATGTCTC'"
      ]
     },
     "execution_count": 14,
     "metadata": {},
     "output_type": "execute_result"
    }
   ],
   "source": [
    "# Concatenate two partial overlapping sequences\n",
    "from Bio import pairwise2\n",
    "from Bio.pairwise2 import format_alignment\n",
    "seq1 = Seq('AGTCGGTACAAATTACACAGCATATGCTTTACTGTTAACCACA')\n",
    "print(seq1)\n",
    "seq2 = Seq('GTTAACCACATGCGTAGCCACTTGCAATGTCTC')\n",
    "print(seq2)\n",
    "a_good_alignment = pairwise2.align.localms(seq1, seq2, 2, -1, -3, -3)\n",
    "print(format_alignment(*a_good_alignment[0]))\n",
    "\n",
    "def make_me_a_consensus(algn):\n",
    "    consensus=[]\n",
    "    for s1, s2 in zip(algn[0][0],algn[0][1]):\n",
    "        if s1 == s2:\n",
    "            consensus.append(s1)\n",
    "        elif s1 == '-':\n",
    "            consensus.append(s2)\n",
    "        elif s2 == '-':\n",
    "            consensus.append(s1)\n",
    "    return ''.join(consensus)\n",
    "make_me_a_consensus(a_good_alignment)"
   ]
  },
  {
   "cell_type": "code",
   "execution_count": 67,
   "metadata": {},
   "outputs": [
    {
     "name": "stdout",
     "output_type": "stream",
     "text": [
      "[deque(['A', 'A', 'A', 'A']), deque(['A', 'A', 'A', 'C']), deque(['A', 'A', 'A', 'G']), deque(['A', 'A', 'A', 'T']), deque(['A', 'A', 'C', 'A']), deque(['A', 'A', 'C', 'C']), deque(['A', 'A', 'C', 'G']), deque(['A', 'A', 'C', 'T']), deque(['A', 'A', 'G', 'A']), deque(['A', 'A', 'G', 'C']), deque(['A', 'A', 'G', 'G']), deque(['A', 'A', 'G', 'T']), deque(['A', 'A', 'T', 'A']), deque(['A', 'A', 'T', 'C']), deque(['A', 'A', 'T', 'G']), deque(['A', 'A', 'T', 'T']), deque(['A', 'C', 'A', 'A']), deque(['A', 'C', 'A', 'C']), deque(['A', 'C', 'A', 'G']), deque(['A', 'C', 'A', 'T']), deque(['A', 'C', 'C', 'A']), deque(['A', 'C', 'C', 'C']), deque(['A', 'C', 'C', 'G']), deque(['A', 'C', 'C', 'T']), deque(['A', 'C', 'G', 'A']), deque(['A', 'C', 'G', 'C']), deque(['A', 'C', 'G', 'G']), deque(['A', 'C', 'G', 'T']), deque(['A', 'C', 'T', 'A']), deque(['A', 'C', 'T', 'C']), deque(['A', 'C', 'T', 'G']), deque(['A', 'C', 'T', 'T']), deque(['A', 'G', 'A', 'A']), deque(['A', 'G', 'A', 'C']), deque(['A', 'G', 'A', 'G']), deque(['A', 'G', 'A', 'T']), deque(['A', 'G', 'C', 'A']), deque(['A', 'G', 'C', 'C']), deque(['A', 'G', 'C', 'G']), deque(['A', 'G', 'C', 'T']), deque(['A', 'G', 'G', 'A']), deque(['A', 'G', 'G', 'C']), deque(['A', 'G', 'G', 'G']), deque(['A', 'G', 'G', 'T']), deque(['A', 'G', 'T', 'A']), deque(['A', 'G', 'T', 'C']), deque(['A', 'G', 'T', 'G']), deque(['A', 'G', 'T', 'T']), deque(['A', 'T', 'A', 'A']), deque(['A', 'T', 'A', 'C']), deque(['A', 'T', 'A', 'G']), deque(['A', 'T', 'A', 'T']), deque(['A', 'T', 'C', 'A']), deque(['A', 'T', 'C', 'C']), deque(['A', 'T', 'C', 'G']), deque(['A', 'T', 'C', 'T']), deque(['A', 'T', 'G', 'A']), deque(['A', 'T', 'G', 'C']), deque(['A', 'T', 'G', 'G']), deque(['A', 'T', 'G', 'T']), deque(['A', 'T', 'T', 'A']), deque(['A', 'T', 'T', 'C']), deque(['A', 'T', 'T', 'G']), deque(['A', 'T', 'T', 'T']), deque(['C', 'A', 'A', 'A']), deque(['C', 'A', 'A', 'C']), deque(['C', 'A', 'A', 'G']), deque(['C', 'A', 'A', 'T']), deque(['C', 'A', 'C', 'A']), deque(['C', 'A', 'C', 'C']), deque(['C', 'A', 'C', 'G']), deque(['C', 'A', 'C', 'T']), deque(['C', 'A', 'G', 'A']), deque(['C', 'A', 'G', 'C']), deque(['C', 'A', 'G', 'G']), deque(['C', 'A', 'G', 'T']), deque(['C', 'A', 'T', 'A']), deque(['C', 'A', 'T', 'C']), deque(['C', 'A', 'T', 'G']), deque(['C', 'A', 'T', 'T']), deque(['C', 'C', 'A', 'A']), deque(['C', 'C', 'A', 'C']), deque(['C', 'C', 'A', 'G']), deque(['C', 'C', 'A', 'T']), deque(['C', 'C', 'C', 'A']), deque(['C', 'C', 'C', 'C']), deque(['C', 'C', 'C', 'G']), deque(['C', 'C', 'C', 'T']), deque(['C', 'C', 'G', 'A']), deque(['C', 'C', 'G', 'C']), deque(['C', 'C', 'G', 'G']), deque(['C', 'C', 'G', 'T']), deque(['C', 'C', 'T', 'A']), deque(['C', 'C', 'T', 'C']), deque(['C', 'C', 'T', 'G']), deque(['C', 'C', 'T', 'T']), deque(['C', 'G', 'A', 'A']), deque(['C', 'G', 'A', 'C']), deque(['C', 'G', 'A', 'G']), deque(['C', 'G', 'A', 'T']), deque(['C', 'G', 'C', 'A']), deque(['C', 'G', 'C', 'C']), deque(['C', 'G', 'C', 'G']), deque(['C', 'G', 'C', 'T']), deque(['C', 'G', 'G', 'A']), deque(['C', 'G', 'G', 'C']), deque(['C', 'G', 'G', 'G']), deque(['C', 'G', 'G', 'T']), deque(['C', 'G', 'T', 'A']), deque(['C', 'G', 'T', 'C']), deque(['C', 'G', 'T', 'G']), deque(['C', 'G', 'T', 'T']), deque(['C', 'T', 'A', 'A']), deque(['C', 'T', 'A', 'C']), deque(['C', 'T', 'A', 'G']), deque(['C', 'T', 'A', 'T']), deque(['C', 'T', 'C', 'A']), deque(['C', 'T', 'C', 'C']), deque(['C', 'T', 'C', 'G']), deque(['C', 'T', 'C', 'T']), deque(['C', 'T', 'G', 'A']), deque(['C', 'T', 'G', 'C']), deque(['C', 'T', 'G', 'G']), deque(['C', 'T', 'G', 'T']), deque(['C', 'T', 'T', 'A']), deque(['C', 'T', 'T', 'C']), deque(['C', 'T', 'T', 'G']), deque(['C', 'T', 'T', 'T']), deque(['G', 'A', 'A', 'A']), deque(['G', 'A', 'A', 'C']), deque(['G', 'A', 'A', 'G']), deque(['G', 'A', 'A', 'T']), deque(['G', 'A', 'C', 'A']), deque(['G', 'A', 'C', 'C']), deque(['G', 'A', 'C', 'G']), deque(['G', 'A', 'C', 'T']), deque(['G', 'A', 'G', 'A']), deque(['G', 'A', 'G', 'C']), deque(['G', 'A', 'G', 'G']), deque(['G', 'A', 'G', 'T']), deque(['G', 'A', 'T', 'A']), deque(['G', 'A', 'T', 'C']), deque(['G', 'A', 'T', 'G']), deque(['G', 'A', 'T', 'T']), deque(['G', 'C', 'A', 'A']), deque(['G', 'C', 'A', 'C']), deque(['G', 'C', 'A', 'G']), deque(['G', 'C', 'A', 'T']), deque(['G', 'C', 'C', 'A']), deque(['G', 'C', 'C', 'C']), deque(['G', 'C', 'C', 'G']), deque(['G', 'C', 'C', 'T']), deque(['G', 'C', 'G', 'A']), deque(['G', 'C', 'G', 'C']), deque(['G', 'C', 'G', 'G']), deque(['G', 'C', 'G', 'T']), deque(['G', 'C', 'T', 'A']), deque(['G', 'C', 'T', 'C']), deque(['G', 'C', 'T', 'G']), deque(['G', 'C', 'T', 'T']), deque(['G', 'G', 'A', 'A']), deque(['G', 'G', 'A', 'C']), deque(['G', 'G', 'A', 'G']), deque(['G', 'G', 'A', 'T']), deque(['G', 'G', 'C', 'A']), deque(['G', 'G', 'C', 'C']), deque(['G', 'G', 'C', 'G']), deque(['G', 'G', 'C', 'T']), deque(['G', 'G', 'G', 'A']), deque(['G', 'G', 'G', 'C']), deque(['G', 'G', 'G', 'G']), deque(['G', 'G', 'G', 'T']), deque(['G', 'G', 'T', 'A']), deque(['G', 'G', 'T', 'C']), deque(['G', 'G', 'T', 'G']), deque(['G', 'G', 'T', 'T']), deque(['G', 'T', 'A', 'A']), deque(['G', 'T', 'A', 'C']), deque(['G', 'T', 'A', 'G']), deque(['G', 'T', 'A', 'T']), deque(['G', 'T', 'C', 'A']), deque(['G', 'T', 'C', 'C']), deque(['G', 'T', 'C', 'G']), deque(['G', 'T', 'C', 'T']), deque(['G', 'T', 'G', 'A']), deque(['G', 'T', 'G', 'C']), deque(['G', 'T', 'G', 'G']), deque(['G', 'T', 'G', 'T']), deque(['G', 'T', 'T', 'A']), deque(['G', 'T', 'T', 'C']), deque(['G', 'T', 'T', 'G']), deque(['G', 'T', 'T', 'T']), deque(['T', 'A', 'A', 'A']), deque(['T', 'A', 'A', 'C']), deque(['T', 'A', 'A', 'G']), deque(['T', 'A', 'A', 'T']), deque(['T', 'A', 'C', 'A']), deque(['T', 'A', 'C', 'C']), deque(['T', 'A', 'C', 'G']), deque(['T', 'A', 'C', 'T']), deque(['T', 'A', 'G', 'A']), deque(['T', 'A', 'G', 'C']), deque(['T', 'A', 'G', 'G']), deque(['T', 'A', 'G', 'T']), deque(['T', 'A', 'T', 'A']), deque(['T', 'A', 'T', 'C']), deque(['T', 'A', 'T', 'G']), deque(['T', 'A', 'T', 'T']), deque(['T', 'C', 'A', 'A']), deque(['T', 'C', 'A', 'C']), deque(['T', 'C', 'A', 'G']), deque(['T', 'C', 'A', 'T']), deque(['T', 'C', 'C', 'A']), deque(['T', 'C', 'C', 'C']), deque(['T', 'C', 'C', 'G']), deque(['T', 'C', 'C', 'T']), deque(['T', 'C', 'G', 'A']), deque(['T', 'C', 'G', 'C']), deque(['T', 'C', 'G', 'G']), deque(['T', 'C', 'G', 'T']), deque(['T', 'C', 'T', 'A']), deque(['T', 'C', 'T', 'C']), deque(['T', 'C', 'T', 'G']), deque(['T', 'C', 'T', 'T']), deque(['T', 'G', 'A', 'A']), deque(['T', 'G', 'A', 'C']), deque(['T', 'G', 'A', 'G']), deque(['T', 'G', 'A', 'T']), deque(['T', 'G', 'C', 'A']), deque(['T', 'G', 'C', 'C']), deque(['T', 'G', 'C', 'G']), deque(['T', 'G', 'C', 'T']), deque(['T', 'G', 'G', 'A']), deque(['T', 'G', 'G', 'C']), deque(['T', 'G', 'G', 'G']), deque(['T', 'G', 'G', 'T']), deque(['T', 'G', 'T', 'A']), deque(['T', 'G', 'T', 'C']), deque(['T', 'G', 'T', 'G']), deque(['T', 'G', 'T', 'T']), deque(['T', 'T', 'A', 'A']), deque(['T', 'T', 'A', 'C']), deque(['T', 'T', 'A', 'G']), deque(['T', 'T', 'A', 'T']), deque(['T', 'T', 'C', 'A']), deque(['T', 'T', 'C', 'C']), deque(['T', 'T', 'C', 'G']), deque(['T', 'T', 'C', 'T']), deque(['T', 'T', 'G', 'A']), deque(['T', 'T', 'G', 'C']), deque(['T', 'T', 'G', 'G']), deque(['T', 'T', 'G', 'T']), deque(['T', 'T', 'T', 'A']), deque(['T', 'T', 'T', 'C']), deque(['T', 'T', 'T', 'G']), deque(['T', 'T', 'T', 'T'])]\n"
     ]
    }
   ],
   "source": [
    "# Enumerate k-mer sequences\n",
    "import itertools\n",
    "basic_dna = \"ACGT\"\n",
    "k = 4\n",
    "l = [deque(list(tup)) for tup in itertools.product(basic_dna, repeat = k)]\n",
    "print(l)\n"
   ]
  },
  {
   "cell_type": "code",
   "execution_count": 74,
   "metadata": {},
   "outputs": [],
   "source": [
    "# Generate k-mer edges\n",
    "# Create a dict recording the k-mer sequence and the ID.\n",
    "from collections import deque\n",
    "kmer_dict = {}\n",
    "\n",
    "import copy\n",
    "for kmer_q in l:\n",
    "    kmer = \"\".join(kmer_q)\n",
    "    if kmer not in kmer_dict:\n",
    "        kmer_dict[kmer] = []\n",
    "    for new_ch in ['A', 'C', 'G', 'T']:\n",
    "        kmer_next = copy.deepcopy(kmer_q)\n",
    "        kmer_next.popleft()\n",
    "        kmer_next.append(new_ch)\n",
    "        kmer_str = \"\".join(kmer_next)\n",
    "        kmer_dict[kmer].append(kmer_str)\n",
    "\n",
    "with open('4-mer.txt', 'w') as f:\n",
    "    for k,v in kmer_dict.items():\n",
    "        for i in v:\n",
    "            f.write(k + \"\\t\" + i + \"\\n\")\n",
    "f.close()"
   ]
  }
 ],
 "metadata": {
  "kernelspec": {
   "display_name": "Python 3.7.13 ('pytorch_gpu')",
   "language": "python",
   "name": "python3"
  },
  "language_info": {
   "codemirror_mode": {
    "name": "ipython",
    "version": 3
   },
   "file_extension": ".py",
   "mimetype": "text/x-python",
   "name": "python",
   "nbconvert_exporter": "python",
   "pygments_lexer": "ipython3",
   "version": "3.7.13"
  },
  "orig_nbformat": 4,
  "vscode": {
   "interpreter": {
    "hash": "d7d8fa22255e4b711820dcddc416840efb394b3ac5cb22373f2ed5891745ccfb"
   }
  }
 },
 "nbformat": 4,
 "nbformat_minor": 2
}
